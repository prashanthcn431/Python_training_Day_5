{
  "nbformat": 4,
  "nbformat_minor": 0,
  "metadata": {
    "colab": {
      "provenance": []
    },
    "kernelspec": {
      "name": "python3",
      "display_name": "Python 3"
    },
    "language_info": {
      "name": "python"
    }
  },
  "cells": [
    {
      "cell_type": "code",
      "execution_count": null,
      "metadata": {
        "id": "pmeRyzksx6oD"
      },
      "outputs": [],
      "source": [
        "l = [\"a\",\"b\",\"c\",\"d\",\"e\"]"
      ]
    },
    {
      "cell_type": "code",
      "source": [
        "l"
      ],
      "metadata": {
        "colab": {
          "base_uri": "https://localhost:8080/"
        },
        "id": "PoWBFTDjzJU6",
        "outputId": "981ee92f-94cd-4de0-9288-9dac8bd7d863"
      },
      "execution_count": null,
      "outputs": [
        {
          "output_type": "execute_result",
          "data": {
            "text/plain": [
              "['a', 'b', 'c', 'd', 'e']"
            ]
          },
          "metadata": {},
          "execution_count": 4
        }
      ]
    },
    {
      "cell_type": "code",
      "source": [
        "for i in l:\n",
        "    print(i)"
      ],
      "metadata": {
        "colab": {
          "base_uri": "https://localhost:8080/"
        },
        "id": "EBdoITLGzhxo",
        "outputId": "1155ff2d-00fe-4a9f-a582-609ed227dee5"
      },
      "execution_count": null,
      "outputs": [
        {
          "output_type": "stream",
          "name": "stdout",
          "text": [
            "a\n",
            "b\n",
            "c\n",
            "d\n",
            "e\n"
          ]
        }
      ]
    },
    {
      "cell_type": "code",
      "source": [
        "list(range(2,9,2))"
      ],
      "metadata": {
        "colab": {
          "base_uri": "https://localhost:8080/"
        },
        "id": "NrwmIKuIzoQX",
        "outputId": "b41a07f7-7872-406d-f100-cdce5bce7602"
      },
      "execution_count": null,
      "outputs": [
        {
          "output_type": "execute_result",
          "data": {
            "text/plain": [
              "[2, 4, 6, 8]"
            ]
          },
          "metadata": {},
          "execution_count": 6
        }
      ]
    },
    {
      "cell_type": "code",
      "source": [
        "list(range(-10,1,2))"
      ],
      "metadata": {
        "colab": {
          "base_uri": "https://localhost:8080/"
        },
        "id": "m7wWabTHz271",
        "outputId": "03347522-6334-40a6-aae9-d9a3e1d5c19b"
      },
      "execution_count": null,
      "outputs": [
        {
          "output_type": "execute_result",
          "data": {
            "text/plain": [
              "[-10, -8, -6, -4, -2, 0]"
            ]
          },
          "metadata": {},
          "execution_count": 14
        }
      ]
    },
    {
      "cell_type": "code",
      "source": [
        "for s in range(2,21,2):  #Range of function\n",
        "    print(s)"
      ],
      "metadata": {
        "colab": {
          "base_uri": "https://localhost:8080/"
        },
        "id": "TdDkuyDKz-5B",
        "outputId": "f1625f50-c2a2-4e3a-8987-58dd99fa9ab7"
      },
      "execution_count": null,
      "outputs": [
        {
          "output_type": "stream",
          "name": "stdout",
          "text": [
            "2\n",
            "4\n",
            "6\n",
            "8\n",
            "10\n",
            "12\n",
            "14\n",
            "16\n",
            "18\n",
            "20\n"
          ]
        }
      ]
    },
    {
      "cell_type": "code",
      "source": [
        "fruits = ['apple', 'banana','cherry']\n",
        "for i in fruits:\n",
        "  print(i)"
      ],
      "metadata": {
        "colab": {
          "base_uri": "https://localhost:8080/"
        },
        "id": "lqHUVSJx0hfx",
        "outputId": "62957fba-2898-4729-dd17-fe602deaec65"
      },
      "execution_count": null,
      "outputs": [
        {
          "output_type": "stream",
          "name": "stdout",
          "text": [
            "apple\n",
            "banana\n",
            "cherry\n"
          ]
        }
      ]
    },
    {
      "cell_type": "code",
      "source": [
        "for i in (\"apple\",\"banana\",\"cherry\"):\n",
        "  print( i )"
      ],
      "metadata": {
        "colab": {
          "base_uri": "https://localhost:8080/"
        },
        "id": "H5OQnP1g1mwI",
        "outputId": "6a0c23b7-0b8d-4353-8bff-dd1af6d17dc7"
      },
      "execution_count": null,
      "outputs": [
        {
          "output_type": "stream",
          "name": "stdout",
          "text": [
            "apple\n",
            "banana\n",
            "cherry\n"
          ]
        }
      ]
    },
    {
      "cell_type": "code",
      "source": [
        "for i in range(11):\n",
        "  if i%2==0:\n",
        "    print(i)"
      ],
      "metadata": {
        "colab": {
          "base_uri": "https://localhost:8080/"
        },
        "id": "7ASuIaDW2IfA",
        "outputId": "3738d505-237c-4dc0-9906-f3f0f09b9248"
      },
      "execution_count": null,
      "outputs": [
        {
          "output_type": "stream",
          "name": "stdout",
          "text": [
            "0\n",
            "2\n",
            "4\n",
            "6\n",
            "8\n",
            "10\n"
          ]
        }
      ]
    },
    {
      "cell_type": "code",
      "source": [
        "for i in range(1,11):\n",
        "  if i%2==0:\n",
        "    print(i)"
      ],
      "metadata": {
        "colab": {
          "base_uri": "https://localhost:8080/"
        },
        "id": "PDD8JwMI2YfG",
        "outputId": "df5ce106-32f8-456b-c823-bf3d41ef3e5d"
      },
      "execution_count": null,
      "outputs": [
        {
          "output_type": "stream",
          "name": "stdout",
          "text": [
            "2\n",
            "4\n",
            "6\n",
            "8\n",
            "10\n"
          ]
        }
      ]
    },
    {
      "cell_type": "code",
      "source": [
        "l = [\"a\",\"b\",1234,12.4567,\"prashu\",[1,2,3]]"
      ],
      "metadata": {
        "id": "mw4t59uy2wdK"
      },
      "execution_count": null,
      "outputs": []
    },
    {
      "cell_type": "code",
      "source": [
        "for i in l:\n",
        "    #print(i)\n",
        "    if type(i)==str:\n",
        "      print((i))\n"
      ],
      "metadata": {
        "colab": {
          "base_uri": "https://localhost:8080/"
        },
        "id": "GAPEL0SY2_Gj",
        "outputId": "98c19a09-3809-4eb4-ab7e-b0e1f32e49d1"
      },
      "execution_count": null,
      "outputs": [
        {
          "output_type": "stream",
          "name": "stdout",
          "text": [
            "a\n",
            "b\n",
            "prashu\n"
          ]
        }
      ]
    },
    {
      "cell_type": "code",
      "source": [
        "ll = [1,2,3,\"lkjhh\",\"prashu\",\"prashu\",\"prashu\",[4,5,6],(7,8,9)]\n"
      ],
      "metadata": {
        "id": "FgXr-Nn33ION"
      },
      "execution_count": null,
      "outputs": []
    },
    {
      "cell_type": "code",
      "source": [
        "for i in ll:\n",
        "    if type(i)==int:\n",
        "        print(i)\n"
      ],
      "metadata": {
        "colab": {
          "base_uri": "https://localhost:8080/"
        },
        "id": "HhiZVbfZ3-d8",
        "outputId": "5f23f7df-3d53-440e-c7fe-d6ea51d0db37"
      },
      "execution_count": null,
      "outputs": [
        {
          "output_type": "stream",
          "name": "stdout",
          "text": [
            "1\n",
            "2\n",
            "3\n"
          ]
        }
      ]
    },
    {
      "cell_type": "code",
      "source": [
        "ll = [1,2,3,\"lkjhh\",\"prashu\",\"prashu\",\"prashu\",[4,5,6],(7,8,9)]\n",
        "for i in ll:\n",
        "    if type(i)==str:\n",
        "        print(i)"
      ],
      "metadata": {
        "colab": {
          "base_uri": "https://localhost:8080/"
        },
        "id": "vj0qkb3S4NdR",
        "outputId": "ecd73f8f-445f-4052-aade-547713c12ba0"
      },
      "execution_count": null,
      "outputs": [
        {
          "output_type": "stream",
          "name": "stdout",
          "text": [
            "lkjhh\n",
            "prashu\n",
            "prashu\n",
            "prashu\n"
          ]
        }
      ]
    },
    {
      "cell_type": "code",
      "source": [
        "for i in ll:\n",
        "    if type(i)==list:\n",
        "        print(i)\n",
        "    if type(i)==tuple:\n",
        "        print(i)"
      ],
      "metadata": {
        "colab": {
          "base_uri": "https://localhost:8080/"
        },
        "id": "baAlN4p25Uu7",
        "outputId": "da65afc4-9031-4a5c-e97e-099acd450010"
      },
      "execution_count": null,
      "outputs": [
        {
          "output_type": "stream",
          "name": "stdout",
          "text": [
            "[4, 5, 6]\n",
            "(7, 8, 9)\n"
          ]
        }
      ]
    },
    {
      "cell_type": "code",
      "source": [
        "num = int(input(\"Enter a number: \"))\n",
        "for i in range(1,11):\n",
        "  l=num*i\n",
        "  print(f\"{num}*{i}={l}\")"
      ],
      "metadata": {
        "colab": {
          "base_uri": "https://localhost:8080/"
        },
        "id": "9FWRKjzV5mTK",
        "outputId": "aa688d39-d1a9-4a0e-94f6-3d78dc20d73c"
      },
      "execution_count": null,
      "outputs": [
        {
          "output_type": "stream",
          "name": "stdout",
          "text": [
            "Enter a number: 12\n",
            "12*1=12\n",
            "12*2=24\n",
            "12*3=36\n",
            "12*4=48\n",
            "12*5=60\n",
            "12*6=72\n",
            "12*7=84\n",
            "12*8=96\n",
            "12*9=108\n",
            "12*10=120\n"
          ]
        }
      ]
    },
    {
      "cell_type": "code",
      "source": [
        "l7=eval(input(\"enter a list:\"))\n",
        "#print(l7)\n",
        "for i in l7:\n",
        "  print(i)\n"
      ],
      "metadata": {
        "colab": {
          "base_uri": "https://localhost:8080/"
        },
        "id": "WvmNPbdR65uA",
        "outputId": "1a2acab1-99a7-4f97-cd32-a4dceb1ff33b"
      },
      "execution_count": null,
      "outputs": [
        {
          "output_type": "stream",
          "name": "stdout",
          "text": [
            "enter a list:'prashu'\n",
            "p\n",
            "r\n",
            "a\n",
            "s\n",
            "h\n",
            "u\n"
          ]
        }
      ]
    },
    {
      "cell_type": "code",
      "source": [
        "for i in range(7):\n",
        "  for j in range(i+1):\n",
        "    print(\"*\",end =\" \")\n",
        "  print()"
      ],
      "metadata": {
        "colab": {
          "base_uri": "https://localhost:8080/"
        },
        "id": "P8FKLiCW79mB",
        "outputId": "2d6d3557-6566-46df-bc0f-bd38254427e7"
      },
      "execution_count": null,
      "outputs": [
        {
          "output_type": "stream",
          "name": "stdout",
          "text": [
            "* \n",
            "* * \n",
            "* * * \n",
            "* * * * \n",
            "* * * * * \n",
            "* * * * * * \n",
            "* * * * * * * \n"
          ]
        }
      ]
    },
    {
      "cell_type": "code",
      "source": [
        "for i in range(7):\n",
        "  for j in range(7-i):\n",
        "    print(\"*\",end =\" \")\n",
        "  print()"
      ],
      "metadata": {
        "colab": {
          "base_uri": "https://localhost:8080/"
        },
        "id": "oOXQiqEb9aeb",
        "outputId": "51059a7e-f127-4364-af59-b32a05be11c7"
      },
      "execution_count": null,
      "outputs": [
        {
          "output_type": "stream",
          "name": "stdout",
          "text": [
            "* * * * * * * \n",
            "* * * * * * \n",
            "* * * * * \n",
            "* * * * \n",
            "* * * \n",
            "* * \n",
            "* \n"
          ]
        }
      ]
    },
    {
      "cell_type": "code",
      "source": [
        "n = int (input(\"Enter the coloum: \"))\n",
        "for i in range(n):\n",
        "  for j in range(i+1):\n",
        "    print(\"*\",end =\" \")\n",
        "  print()"
      ],
      "metadata": {
        "colab": {
          "base_uri": "https://localhost:8080/"
        },
        "id": "TJbBfeRj-2JM",
        "outputId": "bea58566-8778-4433-dc52-868ccd5ce019"
      },
      "execution_count": null,
      "outputs": [
        {
          "output_type": "stream",
          "name": "stdout",
          "text": [
            "Enter the coloum: 12\n",
            "* \n",
            "* * \n",
            "* * * \n",
            "* * * * \n",
            "* * * * * \n",
            "* * * * * * \n",
            "* * * * * * * \n",
            "* * * * * * * * \n",
            "* * * * * * * * * \n",
            "* * * * * * * * * * \n",
            "* * * * * * * * * * * \n",
            "* * * * * * * * * * * * \n"
          ]
        }
      ]
    },
    {
      "cell_type": "code",
      "source": [
        "\n",
        "for i in range(1,n+1): #1 -----6\n",
        "  if i==1 or i==n:\n",
        "    print(\"*\"*i)\n",
        "  else:\n",
        "    print(\"*\"+\" \"*(i-2)+\"*\")"
      ],
      "metadata": {
        "colab": {
          "base_uri": "https://localhost:8080/"
        },
        "id": "lQtNnGfxI5B_",
        "outputId": "9e72aa29-45ab-4bb1-8d57-5540a22846cf"
      },
      "execution_count": null,
      "outputs": [
        {
          "output_type": "stream",
          "name": "stdout",
          "text": [
            "*\n",
            "**\n",
            "* *\n",
            "****\n"
          ]
        }
      ]
    },
    {
      "cell_type": "code",
      "source": [
        "n = 3\n",
        "for i in range(n, 0, -1):\n",
        "  print(' ' * (n-i) +'* ' * i)"
      ],
      "metadata": {
        "colab": {
          "base_uri": "https://localhost:8080/"
        },
        "id": "xSPiXtnsNjpQ",
        "outputId": "90c5d713-4d4e-48cf-cd9c-a553577a8dc5"
      },
      "execution_count": null,
      "outputs": [
        {
          "output_type": "stream",
          "name": "stdout",
          "text": [
            "* * * \n",
            " * * \n",
            "  * \n"
          ]
        }
      ]
    },
    {
      "cell_type": "code",
      "source": [
        "n = 5\n",
        "for i in range(1,n+1):\n",
        "  print(' '*(n-i)+'* ' *i)"
      ],
      "metadata": {
        "colab": {
          "base_uri": "https://localhost:8080/"
        },
        "id": "MYK4hJtiQiOq",
        "outputId": "54f75037-b697-4e7b-ae19-13ed0df872c8"
      },
      "execution_count": null,
      "outputs": [
        {
          "output_type": "stream",
          "name": "stdout",
          "text": [
            "    * \n",
            "   * * \n",
            "  * * * \n",
            " * * * * \n",
            "* * * * * \n"
          ]
        }
      ]
    },
    {
      "cell_type": "code",
      "source": [
        "n =5\n",
        "for i in range(1,n+1):\n",
        " print(' '*(1-n )+'* ' *i)"
      ],
      "metadata": {
        "colab": {
          "base_uri": "https://localhost:8080/"
        },
        "id": "qAGwtfclRwHv",
        "outputId": "cb77f67a-74a8-497a-f8e3-e6bedb915379"
      },
      "execution_count": null,
      "outputs": [
        {
          "output_type": "stream",
          "name": "stdout",
          "text": [
            "* \n",
            "* * \n",
            "* * * \n",
            "* * * * \n",
            "* * * * * \n"
          ]
        }
      ]
    },
    {
      "cell_type": "code",
      "source": [
        "n = 5\n",
        "for i in range(1,n+1):\n",
        "  print(' '*(n-i)+'* ' *i)\n",
        "for i in range(n, 0, -1):\n",
        "  print(' ' * (n-i) +'* ' * i)"
      ],
      "metadata": {
        "colab": {
          "base_uri": "https://localhost:8080/"
        },
        "id": "7RtkkHPlWxfS",
        "outputId": "770d4a62-102a-456a-c266-6ced73a02683"
      },
      "execution_count": null,
      "outputs": [
        {
          "output_type": "stream",
          "name": "stdout",
          "text": [
            "    * \n",
            "   * * \n",
            "  * * * \n",
            " * * * * \n",
            "* * * * * \n",
            "* * * * * \n",
            " * * * * \n",
            "  * * * \n",
            "   * * \n",
            "    * \n"
          ]
        }
      ]
    },
    {
      "cell_type": "code",
      "source": [
        "n = 5\n",
        "for i in range(1,n+1):\n",
        "  if  i==5:\n",
        "    print(' '*(n-i)+'* ' *i)\n",
        "  print(' '*(n-i)+'* ' *i)\n",
        "for i in range(n, 0, -1):\n",
        "  print(' ' * (n-i) +'* ' * i)\n",
        "  if i==1:\n",
        "    break\n",
        "else:\n",
        "    for i in range(1,n- 1):\n",
        "       print(' ' * (n-i) +'* ' * i)"
      ],
      "metadata": {
        "id": "A-zo3Ll4aKZW",
        "colab": {
          "base_uri": "https://localhost:8080/"
        },
        "outputId": "53b97724-f832-407b-9779-c66d9af1ddc4"
      },
      "execution_count": null,
      "outputs": [
        {
          "output_type": "stream",
          "name": "stdout",
          "text": [
            "    * \n",
            "   * * \n",
            "  * * * \n",
            " * * * * \n",
            "* * * * * \n",
            "* * * * * \n",
            "* * * * * \n",
            " * * * * \n",
            "  * * * \n",
            "   * * \n",
            "    * \n"
          ]
        }
      ]
    },
    {
      "cell_type": "code",
      "source": [
        "n = 5\n",
        "for i in range(1,n+1):\n",
        "  if  i==1:\n",
        "    print((n-i)*\" \" +'*'*i)\n",
        "  else:\n",
        "    print((n-i)*\" \"+\"*\"+\" \"*(2*i-3)+\"* \")"
      ],
      "metadata": {
        "colab": {
          "base_uri": "https://localhost:8080/"
        },
        "id": "roYtUjWxtdtW",
        "outputId": "65844fd1-98c1-43a2-89e6-a03f2f8a5cc3"
      },
      "execution_count": null,
      "outputs": [
        {
          "output_type": "stream",
          "name": "stdout",
          "text": [
            "    *\n",
            "   * * \n",
            "  *   * \n",
            " *     * \n",
            "*       * \n"
          ]
        }
      ]
    },
    {
      "cell_type": "code",
      "source": [
        "n = 5\n",
        "for i in range(n,0,-1):\n",
        "  if  i==1:\n",
        "    print((n-i)*\" \" +'*'*i)\n",
        "  else:\n",
        "    print((n-i)*\" \"+\"*\"+\" \"*(2*i-3)+\"* \")"
      ],
      "metadata": {
        "colab": {
          "base_uri": "https://localhost:8080/"
        },
        "id": "rvT4BRehyC1Q",
        "outputId": "0db9cdc2-e734-4df7-e312-9af956832f2d"
      },
      "execution_count": null,
      "outputs": [
        {
          "output_type": "stream",
          "name": "stdout",
          "text": [
            "*       * \n",
            " *     * \n",
            "  *   * \n",
            "   * * \n",
            "    *\n"
          ]
        }
      ]
    },
    {
      "cell_type": "code",
      "source": [
        "n = 5\n",
        "for i in range(1,n+1):\n",
        "  if  i==1:\n",
        "    print((n-i)*\" \" +'*'*i)\n",
        "  else:\n",
        "    print((n-i)*\" \"+\"*\"+\" \"*(2*i-3)+\"* \")\n",
        "for i in range(n,0,-1):\n",
        "  if  i==1:\n",
        "    print((n-i)*\" \" +'*'*i)\n",
        "  else:\n",
        "    print((n-i)*\" \"+\"*\"+\" \"*(2*i-3)+\"* \")"
      ],
      "metadata": {
        "colab": {
          "base_uri": "https://localhost:8080/"
        },
        "id": "5IMwS-um0N4n",
        "outputId": "2b654c92-3c06-483d-fe8d-40e2d06934be"
      },
      "execution_count": null,
      "outputs": [
        {
          "output_type": "stream",
          "name": "stdout",
          "text": [
            "    *\n",
            "   * * \n",
            "  *   * \n",
            " *     * \n",
            "*       * \n",
            "*       * \n",
            " *     * \n",
            "  *   * \n",
            "   * * \n",
            "    *\n"
          ]
        }
      ]
    },
    {
      "cell_type": "code",
      "source": [
        "n = 5\n",
        "for i in range(1,n+1):\n",
        "  if  i==1:\n",
        "    print((n-i)*\" \" +'*'*i)\n",
        "  else:\n",
        "    print((n-i)*\" \"+\"*\"+\" \"*(2*i-3)+\"* \")\n",
        "for i in range(n,0,-1):\n",
        "  if  i==1:\n",
        "    print((n-i)*\" \" +'*'*i)\n",
        "  else:\n",
        "    print((n-i)*\" \"+\"*\"+\" \"*(2*i-3)+\"* \")"
      ],
      "metadata": {
        "colab": {
          "base_uri": "https://localhost:8080/"
        },
        "id": "SX59Yjz80XEI",
        "outputId": "7ca86446-0d56-41a0-b4f3-732959ab2653"
      },
      "execution_count": null,
      "outputs": [
        {
          "output_type": "stream",
          "name": "stdout",
          "text": [
            "    *\n",
            "   * * \n",
            "  *   * \n",
            " *     * \n",
            "*       * \n",
            "*       * \n",
            " *     * \n",
            "  *   * \n",
            "   * * \n",
            "    *\n"
          ]
        }
      ]
    },
    {
      "cell_type": "code",
      "source": [
        "\n",
        "i=1\n",
        "n= int(input(\"Enter a number: \")\n",
        "while i<10:\n",
        "  print(f\"\"\n",
        "  i=1+1"
      ],
      "metadata": {
        "id": "9HGyn8OK4_BY"
      },
      "execution_count": null,
      "outputs": []
    },
    {
      "cell_type": "code",
      "source": [
        "import random\n",
        "\n",
        "number_to_guess = random.randint(1,100)\n",
        "guess = 0\n",
        "\n",
        "while guess != number_to_guess:\n",
        "    guess = int(input(\"Guess a number between 1 and 100: \"))\n",
        "\n",
        "if guess < number_to_guess:\n",
        "    print(\"Too low!try again.\")\n",
        "elif guess > number_to_guess:\n",
        "    print(\"Too high!try again.\")\n",
        "else:\n",
        "    print(\"Congratulations! You guessed the number!\")\n"
      ],
      "metadata": {
        "colab": {
          "base_uri": "https://localhost:8080/"
        },
        "id": "nOpFnnbZ5uPV",
        "outputId": "f6ff2a44-f776-403c-d84e-5523099cae95"
      },
      "execution_count": null,
      "outputs": [
        {
          "name": "stdout",
          "output_type": "stream",
          "text": [
            "Guess a number between 1 and 100: 25\n"
          ]
        }
      ]
    },
    {
      "cell_type": "code",
      "source": [
        "password = 1234\n",
        "guess = int (\"enter the password: \")\n",
        "while guess != password:\n",
        " guess =int(input(\"enter the wrong: \"))\n",
        "guess = int(input(\"enter the password again: \"))\n",
        "\n"
      ],
      "metadata": {
        "id": "f8po2BVv8MDU"
      },
      "execution_count": null,
      "outputs": []
    },
    {
      "cell_type": "code",
      "source": [
        "total = 10\n",
        "for  i in range(1,11):\n",
        "  total = total+i\n",
        "  print(total)"
      ],
      "metadata": {
        "colab": {
          "base_uri": "https://localhost:8080/"
        },
        "id": "wj5wNoql_YqS",
        "outputId": "67f7e18b-cc8c-4162-c3b4-106b36321173"
      },
      "execution_count": null,
      "outputs": [
        {
          "output_type": "stream",
          "name": "stdout",
          "text": [
            "11\n",
            "13\n",
            "16\n",
            "20\n",
            "25\n",
            "31\n",
            "38\n",
            "46\n",
            "55\n",
            "65\n"
          ]
        }
      ]
    },
    {
      "cell_type": "code",
      "source": [
        "i = 10\n",
        "while i<11:\n",
        "  if i==3:\n",
        "    break\n",
        "\n",
        "  print(i)\n",
        "  i-=1\n"
      ],
      "metadata": {
        "colab": {
          "base_uri": "https://localhost:8080/"
        },
        "id": "aRyJadExBKH2",
        "outputId": "384f51b8-7d28-40ad-f978-46da73d91f5e"
      },
      "execution_count": null,
      "outputs": [
        {
          "output_type": "stream",
          "name": "stdout",
          "text": [
            "10\n",
            "9\n",
            "8\n",
            "7\n",
            "6\n",
            "5\n",
            "4\n"
          ]
        }
      ]
    },
    {
      "cell_type": "code",
      "source": [
        "i =10\n",
        "while i>=1:\n",
        "  i=i-1\n",
        "  if i==3:\n",
        "    continue\n",
        "  print(i)\n"
      ],
      "metadata": {
        "colab": {
          "base_uri": "https://localhost:8080/"
        },
        "id": "5ar5NmgBCVgR",
        "outputId": "0e0b10ab-bf83-47a6-d4aa-6fac7c4a2cb5"
      },
      "execution_count": 1,
      "outputs": [
        {
          "output_type": "stream",
          "name": "stdout",
          "text": [
            "9\n",
            "8\n",
            "7\n",
            "6\n",
            "5\n",
            "4\n",
            "2\n",
            "1\n",
            "0\n"
          ]
        }
      ]
    },
    {
      "cell_type": "markdown",
      "source": [
        "use the loop you print the num from 1 to 10 stop the loop if the number is 6"
      ],
      "metadata": {
        "id": "YatB9qdYDtFr"
      }
    },
    {
      "cell_type": "code",
      "source": [
        "i = 10\n",
        "for i in range(1,11):\n",
        "  if i==7:\n",
        "    break\n",
        "  print(i)\n"
      ],
      "metadata": {
        "id": "fk-afiyOCnkW",
        "colab": {
          "base_uri": "https://localhost:8080/"
        },
        "outputId": "d84989dd-8e30-4c30-b634-f3e96c7dc0c8"
      },
      "execution_count": null,
      "outputs": [
        {
          "output_type": "stream",
          "name": "stdout",
          "text": [
            "1\n",
            "2\n",
            "3\n",
            "4\n",
            "5\n",
            "6\n"
          ]
        }
      ]
    },
    {
      "cell_type": "code",
      "source": [],
      "metadata": {
        "id": "tTtShE-GEVj4"
      },
      "execution_count": null,
      "outputs": []
    }
  ]
}